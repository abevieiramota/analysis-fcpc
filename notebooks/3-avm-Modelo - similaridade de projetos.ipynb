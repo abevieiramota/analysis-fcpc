{
 "cells": [
  {
   "cell_type": "code",
   "execution_count": 4,
   "metadata": {
    "collapsed": false
   },
   "outputs": [],
   "source": [
    "import pandas as pd\n",
    "from sklearn.neighbors import NearestNeighbors\n",
    "from sklearn.preprocessing import LabelEncoder"
   ]
  },
  {
   "cell_type": "code",
   "execution_count": 2,
   "metadata": {
    "collapsed": false
   },
   "outputs": [],
   "source": [
    "df = pd.read_csv('../data/processed/fisica.csv', parse_dates=[4], date_parser=lambda d: pd.datetime.strptime(d, '%Y-%m-%d'))"
   ]
  },
  {
   "cell_type": "markdown",
   "metadata": {},
   "source": [
    "### Construindo matriz de relação entre nome e projeto"
   ]
  },
  {
   "cell_type": "code",
   "execution_count": 5,
   "metadata": {
    "collapsed": false
   },
   "outputs": [],
   "source": [
    "m = df.groupby(['nome', 'projeto']).size()\\\n",
    ".apply(lambda x: 1).unstack().fillna(0).as_matrix()"
   ]
  },
  {
   "cell_type": "markdown",
   "metadata": {
    "collapsed": true
   },
   "source": [
    "### LabelEncoder para nome e projeto"
   ]
  },
  {
   "cell_type": "code",
   "execution_count": 7,
   "metadata": {
    "collapsed": true
   },
   "outputs": [],
   "source": [
    "nome_encoder = LabelEncoder().fit(matrix.index)\n",
    "projeto_encoder = LabelEncoder().fit(matrix.columns)"
   ]
  },
  {
   "cell_type": "markdown",
   "metadata": {},
   "source": [
    "### Neighbors"
   ]
  },
  {
   "cell_type": "code",
   "execution_count": 19,
   "metadata": {
    "collapsed": true
   },
   "outputs": [],
   "source": [
    "nn = NearestNeighbors(metric=\"manhattan\").fit(m)"
   ]
  },
  {
   "cell_type": "code",
   "execution_count": 60,
   "metadata": {
    "collapsed": false
   },
   "outputs": [
    {
     "data": {
      "text/html": [
       "<div>\n",
       "<table border=\"1\" class=\"dataframe\">\n",
       "  <thead>\n",
       "    <tr style=\"text-align: right;\">\n",
       "      <th></th>\n",
       "      <th>d</th>\n",
       "    </tr>\n",
       "    <tr>\n",
       "      <th>nome</th>\n",
       "      <th></th>\n",
       "    </tr>\n",
       "  </thead>\n",
       "  <tbody>\n",
       "    <tr>\n",
       "      <th>JAVAM DE CASTRO MACHADO</th>\n",
       "      <td>0.0</td>\n",
       "    </tr>\n",
       "    <tr>\n",
       "      <th>NELSON ELDORO NASCIMENTO OLIVEIRA</th>\n",
       "      <td>21.0</td>\n",
       "    </tr>\n",
       "    <tr>\n",
       "      <th>RODRIGO FELIX DE ALMEIDA</th>\n",
       "      <td>25.0</td>\n",
       "    </tr>\n",
       "    <tr>\n",
       "      <th>REBECA GUIMARAES BENEVIDES</th>\n",
       "      <td>25.0</td>\n",
       "    </tr>\n",
       "    <tr>\n",
       "      <th>DENIS MORAIS CAVALCANTE</th>\n",
       "      <td>25.0</td>\n",
       "    </tr>\n",
       "    <tr>\n",
       "      <th>FELIPE TIMBO BRITO</th>\n",
       "      <td>26.0</td>\n",
       "    </tr>\n",
       "    <tr>\n",
       "      <th>FLAVIO RUBENS DE CARVALHO SOUSA</th>\n",
       "      <td>27.0</td>\n",
       "    </tr>\n",
       "    <tr>\n",
       "      <th>NELSON ELDORO NASCIMENTO DE OLIVEIRA</th>\n",
       "      <td>27.0</td>\n",
       "    </tr>\n",
       "    <tr>\n",
       "      <th>CINTIA OLIVEIRA SALES</th>\n",
       "      <td>28.0</td>\n",
       "    </tr>\n",
       "    <tr>\n",
       "      <th>ARIADYNE DANTAS DO NASCIMENTO</th>\n",
       "      <td>29.0</td>\n",
       "    </tr>\n",
       "    <tr>\n",
       "      <th>FERNANDO DIONE DOS SANTOS LIMA</th>\n",
       "      <td>29.0</td>\n",
       "    </tr>\n",
       "    <tr>\n",
       "      <th>FELIPE JERONIMO SAMPAIO</th>\n",
       "      <td>29.0</td>\n",
       "    </tr>\n",
       "    <tr>\n",
       "      <th>CAIO FELLIPE CAVALCANTE TEIXEIRA</th>\n",
       "      <td>29.0</td>\n",
       "    </tr>\n",
       "    <tr>\n",
       "      <th>MAURICIO JOSE DE LIMA</th>\n",
       "      <td>30.0</td>\n",
       "    </tr>\n",
       "    <tr>\n",
       "      <th>FELIPE MARTINS MESQUITA</th>\n",
       "      <td>30.0</td>\n",
       "    </tr>\n",
       "  </tbody>\n",
       "</table>\n",
       "</div>"
      ],
      "text/plain": [
       "                                         d\n",
       "nome                                      \n",
       "JAVAM DE CASTRO MACHADO                0.0\n",
       "NELSON ELDORO NASCIMENTO OLIVEIRA     21.0\n",
       "RODRIGO FELIX DE ALMEIDA              25.0\n",
       "REBECA GUIMARAES BENEVIDES            25.0\n",
       "DENIS MORAIS CAVALCANTE               25.0\n",
       "FELIPE TIMBO BRITO                    26.0\n",
       "FLAVIO RUBENS DE CARVALHO SOUSA       27.0\n",
       "NELSON ELDORO NASCIMENTO DE OLIVEIRA  27.0\n",
       "CINTIA OLIVEIRA SALES                 28.0\n",
       "ARIADYNE DANTAS DO NASCIMENTO         29.0\n",
       "FERNANDO DIONE DOS SANTOS LIMA        29.0\n",
       "FELIPE JERONIMO SAMPAIO               29.0\n",
       "CAIO FELLIPE CAVALCANTE TEIXEIRA      29.0\n",
       "MAURICIO JOSE DE LIMA                 30.0\n",
       "FELIPE MARTINS MESQUITA               30.0"
      ]
     },
     "execution_count": 60,
     "metadata": {},
     "output_type": "execute_result"
    }
   ],
   "source": [
    "dist, neighbors = nn.kneighbors(m[nome_encoder.transform(['JAVAM DE CASTRO MACHADO']), :], n_neighbors=15)\n",
    "\n",
    "n = pd.DataFrame({'nome': nome_encoder.inverse_transform(neighbors[0]),\n",
    "                  'd': dist[0]}).set_index('nome')\n",
    "\n",
    "n"
   ]
  },
  {
   "cell_type": "code",
   "execution_count": 57,
   "metadata": {
    "collapsed": false
   },
   "outputs": [
    {
     "data": {
      "text/plain": [
       "35.0"
      ]
     },
     "execution_count": 57,
     "metadata": {},
     "output_type": "execute_result"
    }
   ],
   "source": [
    "# quantidade de projetos \n",
    "m[nome_encoder.transform(['JAVAM DE CASTRO MACHADO']), :].sum()"
   ]
  },
  {
   "cell_type": "code",
   "execution_count": 69,
   "metadata": {
    "collapsed": false
   },
   "outputs": [],
   "source": [
    "p1 = set(df[df.nome == 'NELSON ELDORO NASCIMENTO OLIVEIRA'].projeto.unique())\n",
    "p2 = set(df[df.nome == 'JAVAM DE CASTRO MACHADO'].projeto.unique())"
   ]
  },
  {
   "cell_type": "code",
   "execution_count": 76,
   "metadata": {
    "collapsed": false
   },
   "outputs": [
    {
     "data": {
      "text/plain": [
       "16"
      ]
     },
     "execution_count": 76,
     "metadata": {},
     "output_type": "execute_result"
    }
   ],
   "source": [
    "len(p1.intersection(p2))"
   ]
  },
  {
   "cell_type": "code",
   "execution_count": 75,
   "metadata": {
    "collapsed": false
   },
   "outputs": [
    {
     "data": {
      "text/plain": [
       "21"
      ]
     },
     "execution_count": 75,
     "metadata": {},
     "output_type": "execute_result"
    }
   ],
   "source": [
    "len(p1.symmetric_difference(p2))"
   ]
  }
 ],
 "metadata": {
  "anaconda-cloud": {},
  "kernelspec": {
   "display_name": "Python [default]",
   "language": "python",
   "name": "python3"
  },
  "language_info": {
   "codemirror_mode": {
    "name": "ipython",
    "version": 3
   },
   "file_extension": ".py",
   "mimetype": "text/x-python",
   "name": "python",
   "nbconvert_exporter": "python",
   "pygments_lexer": "ipython3",
   "version": "3.5.2"
  }
 },
 "nbformat": 4,
 "nbformat_minor": 2
}
