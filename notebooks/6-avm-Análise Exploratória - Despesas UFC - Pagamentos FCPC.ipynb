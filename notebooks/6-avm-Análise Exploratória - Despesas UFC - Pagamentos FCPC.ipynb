{
 "cells": [
  {
   "cell_type": "code",
   "execution_count": 1,
   "metadata": {
    "collapsed": true
   },
   "outputs": [],
   "source": [
    "import pandas as pd\n",
    "\n",
    "pd.set_option(\"display.width\", 500)\n",
    "pd.set_option(\"display.max_colwidth\", 200)\n",
    "pd.set_option('display.float_format', lambda x: '%.2f' % x)\n",
    "\n",
    "%matplotlib inline"
   ]
  },
  {
   "cell_type": "code",
   "execution_count": 19,
   "metadata": {
    "collapsed": true
   },
   "outputs": [],
   "source": [
    "gastos = pd.read_csv(\"../data/processed/federal/despesas/gastos diretos/ufc_201301_201701.csv\", decimal=',')\n",
    "\n",
    "gastos['data'] = pd.to_datetime(gastos.data, format=\"%Y-%m-%d\")\n",
    "\n",
    "gastos['nome_favorecido'] = gastos.nome_favorecido.str.strip()"
   ]
  },
  {
   "cell_type": "code",
   "execution_count": 20,
   "metadata": {
    "collapsed": true
   },
   "outputs": [],
   "source": [
    "fcpc = pd.read_csv(\"../data/processed/fcpc/fisica.csv\", parse_dates=[4], date_parser=lambda d: pd.datetime.strptime(d, '%Y-%m-%d'))"
   ]
  },
  {
   "cell_type": "markdown",
   "metadata": {},
   "source": [
    "### Quem aparece nos dois datasets?"
   ]
  },
  {
   "cell_type": "code",
   "execution_count": 21,
   "metadata": {
    "collapsed": false
   },
   "outputs": [
    {
     "data": {
      "text/plain": [
       "(3150,)"
      ]
     },
     "execution_count": 21,
     "metadata": {},
     "output_type": "execute_result"
    }
   ],
   "source": [
    "nos_dois = pd.merge(gastos, fcpc, right_on=\"nome\", left_on=\"nome_favorecido\", suffixes=(\"_gastos\", \"_fcpc\")).nome.unique()\n",
    "\n",
    "nos_dois.shape"
   ]
  },
  {
   "cell_type": "markdown",
   "metadata": {},
   "source": [
    "### Recebido por ano/mes"
   ]
  },
  {
   "cell_type": "code",
   "execution_count": 77,
   "metadata": {
    "collapsed": false
   },
   "outputs": [],
   "source": [
    "gastos_ano_mes = gastos[gastos.nome_favorecido.isin(nos_dois)]\\\n",
    ".groupby(['nome_favorecido', gastos.data.dt.year, gastos.data.dt.month, \"elemento_despesa\"]).valor.sum()\\\n",
    ".unstack()"
   ]
  },
  {
   "cell_type": "code",
   "execution_count": 78,
   "metadata": {
    "collapsed": false
   },
   "outputs": [],
   "source": [
    "fcpc_ano_mes = fcpc[fcpc.nome.isin(nos_dois)]\\\n",
    ".groupby(['nome', fcpc.data.dt.year, fcpc.data.dt.month]).valor.sum()\\\n",
    ".rename(\"valor_fcpc\")"
   ]
  },
  {
   "cell_type": "code",
   "execution_count": 94,
   "metadata": {
    "collapsed": false
   },
   "outputs": [],
   "source": [
    "recebeu_mais_1 = pd.concat([fcpc_ano_mes, gastos_ano_mes], axis=1)\n",
    "recebeu_mais_1.index.set_names(['nome', 'ano', 'mes'], inplace=True)"
   ]
  },
  {
   "cell_type": "markdown",
   "metadata": {},
   "source": [
    "### Quem recebeu simultaneamente de duas formas num mesmo ano/mes"
   ]
  },
  {
   "cell_type": "code",
   "execution_count": 95,
   "metadata": {
    "collapsed": false
   },
   "outputs": [],
   "source": [
    "recebeu_mais_1_simultaneamente_nomes = recebeu_mais_1[recebeu_mais_1.notnull().sum(axis=1) > 1].index.get_level_values(\"nome\")"
   ]
  },
  {
   "cell_type": "code",
   "execution_count": 96,
   "metadata": {
    "collapsed": false
   },
   "outputs": [],
   "source": [
    "recebeu_mais_1_simultaneamente = recebeu_mais_1[recebeu_mais_1.index.get_level_values(\"nome\").isin(recebeu_mais_1_simultaneamente_nomes)]"
   ]
  },
  {
   "cell_type": "markdown",
   "metadata": {},
   "source": [
    "### Analisando a distribuição do total recebido"
   ]
  },
  {
   "cell_type": "code",
   "execution_count": 124,
   "metadata": {
    "collapsed": false
   },
   "outputs": [],
   "source": [
    "pct_recebimentos = recebeu_mais_1_simultaneamente.notnull().groupby(level=0).sum().apply(lambda x: x / x.sum(), axis=1)"
   ]
  },
  {
   "cell_type": "code",
   "execution_count": 141,
   "metadata": {
    "collapsed": false
   },
   "outputs": [],
   "source": [
    "distribuidos = pct_recebimentos[((pct_recebimentos > 0.2) & (pct_recebimentos < 0.5)).sum(axis=1) > 1]"
   ]
  },
  {
   "cell_type": "markdown",
   "metadata": {},
   "source": [
    "### Desses, qual o top 5?"
   ]
  },
  {
   "cell_type": "code",
   "execution_count": 155,
   "metadata": {
    "collapsed": false
   },
   "outputs": [
    {
     "data": {
      "text/plain": [
       "nome\n",
       "EMANUEL EDUARDO DA SILVA OLIVEIRA   51541.38\n",
       "LUCAS RAFAEL PINHEIRO LOPES         40148.41\n",
       "LUCAS KUCHLA                        30785.24\n",
       "CAROLINA MAIA ALMEIDA BEZERRA       30616.46\n",
       "EDUARDO DA SILVA MAIA               26681.70\n",
       "dtype: float64"
      ]
     },
     "execution_count": 155,
     "metadata": {},
     "output_type": "execute_result"
    }
   ],
   "source": [
    "recebeu_mais_1_simultaneamente[recebeu_mais_1_simultaneamente.index.get_level_values(\"nome\").isin(distribuidos.index.get_level_values(\"nome\"))]\\\n",
    ".groupby(level=0).sum().sum(axis=1).nlargest(5)"
   ]
  },
  {
   "cell_type": "code",
   "execution_count": 160,
   "metadata": {
    "collapsed": false
   },
   "outputs": [
    {
     "data": {
      "text/html": [
       "<div>\n",
       "<table border=\"1\" class=\"dataframe\">\n",
       "  <thead>\n",
       "    <tr style=\"text-align: right;\">\n",
       "      <th></th>\n",
       "      <th></th>\n",
       "      <th></th>\n",
       "      <th>valor_fcpc</th>\n",
       "      <th>Outros Serviços de Terceiros - Pessoa Física</th>\n",
       "      <th>Auxílio Financeiro a Estudantes</th>\n",
       "    </tr>\n",
       "    <tr>\n",
       "      <th>nome</th>\n",
       "      <th>ano</th>\n",
       "      <th>mes</th>\n",
       "      <th></th>\n",
       "      <th></th>\n",
       "      <th></th>\n",
       "    </tr>\n",
       "  </thead>\n",
       "  <tbody>\n",
       "    <tr>\n",
       "      <th rowspan=\"33\" valign=\"top\">EDUARDO DA SILVA MAIA</th>\n",
       "      <th rowspan=\"6\" valign=\"top\">2013</th>\n",
       "      <th>7</th>\n",
       "      <td>nan</td>\n",
       "      <td>800.00</td>\n",
       "      <td>nan</td>\n",
       "    </tr>\n",
       "    <tr>\n",
       "      <th>8</th>\n",
       "      <td>nan</td>\n",
       "      <td>400.00</td>\n",
       "      <td>nan</td>\n",
       "    </tr>\n",
       "    <tr>\n",
       "      <th>9</th>\n",
       "      <td>nan</td>\n",
       "      <td>400.00</td>\n",
       "      <td>nan</td>\n",
       "    </tr>\n",
       "    <tr>\n",
       "      <th>10</th>\n",
       "      <td>nan</td>\n",
       "      <td>400.00</td>\n",
       "      <td>nan</td>\n",
       "    </tr>\n",
       "    <tr>\n",
       "      <th>11</th>\n",
       "      <td>nan</td>\n",
       "      <td>400.00</td>\n",
       "      <td>nan</td>\n",
       "    </tr>\n",
       "    <tr>\n",
       "      <th>12</th>\n",
       "      <td>nan</td>\n",
       "      <td>800.00</td>\n",
       "      <td>nan</td>\n",
       "    </tr>\n",
       "    <tr>\n",
       "      <th rowspan=\"7\" valign=\"top\">2014</th>\n",
       "      <th>4</th>\n",
       "      <td>nan</td>\n",
       "      <td>400.00</td>\n",
       "      <td>nan</td>\n",
       "    </tr>\n",
       "    <tr>\n",
       "      <th>5</th>\n",
       "      <td>nan</td>\n",
       "      <td>400.00</td>\n",
       "      <td>nan</td>\n",
       "    </tr>\n",
       "    <tr>\n",
       "      <th>6</th>\n",
       "      <td>nan</td>\n",
       "      <td>400.00</td>\n",
       "      <td>nan</td>\n",
       "    </tr>\n",
       "    <tr>\n",
       "      <th>7</th>\n",
       "      <td>95.24</td>\n",
       "      <td>800.00</td>\n",
       "      <td>nan</td>\n",
       "    </tr>\n",
       "    <tr>\n",
       "      <th>9</th>\n",
       "      <td>nan</td>\n",
       "      <td>400.00</td>\n",
       "      <td>nan</td>\n",
       "    </tr>\n",
       "    <tr>\n",
       "      <th>10</th>\n",
       "      <td>nan</td>\n",
       "      <td>800.00</td>\n",
       "      <td>nan</td>\n",
       "    </tr>\n",
       "    <tr>\n",
       "      <th>12</th>\n",
       "      <td>nan</td>\n",
       "      <td>800.00</td>\n",
       "      <td>nan</td>\n",
       "    </tr>\n",
       "    <tr>\n",
       "      <th rowspan=\"9\" valign=\"top\">2015</th>\n",
       "      <th>4</th>\n",
       "      <td>nan</td>\n",
       "      <td>400.00</td>\n",
       "      <td>nan</td>\n",
       "    </tr>\n",
       "    <tr>\n",
       "      <th>5</th>\n",
       "      <td>nan</td>\n",
       "      <td>400.00</td>\n",
       "      <td>511.90</td>\n",
       "    </tr>\n",
       "    <tr>\n",
       "      <th>6</th>\n",
       "      <td>nan</td>\n",
       "      <td>400.00</td>\n",
       "      <td>515.63</td>\n",
       "    </tr>\n",
       "    <tr>\n",
       "      <th>7</th>\n",
       "      <td>nan</td>\n",
       "      <td>400.00</td>\n",
       "      <td>515.63</td>\n",
       "    </tr>\n",
       "    <tr>\n",
       "      <th>8</th>\n",
       "      <td>nan</td>\n",
       "      <td>400.00</td>\n",
       "      <td>515.63</td>\n",
       "    </tr>\n",
       "    <tr>\n",
       "      <th>9</th>\n",
       "      <td>nan</td>\n",
       "      <td>400.00</td>\n",
       "      <td>511.90</td>\n",
       "    </tr>\n",
       "    <tr>\n",
       "      <th>10</th>\n",
       "      <td>nan</td>\n",
       "      <td>400.00</td>\n",
       "      <td>515.63</td>\n",
       "    </tr>\n",
       "    <tr>\n",
       "      <th>11</th>\n",
       "      <td>nan</td>\n",
       "      <td>400.00</td>\n",
       "      <td>511.90</td>\n",
       "    </tr>\n",
       "    <tr>\n",
       "      <th>12</th>\n",
       "      <td>190.48</td>\n",
       "      <td>800.00</td>\n",
       "      <td>1031.26</td>\n",
       "    </tr>\n",
       "    <tr>\n",
       "      <th rowspan=\"10\" valign=\"top\">2016</th>\n",
       "      <th>2</th>\n",
       "      <td>nan</td>\n",
       "      <td>nan</td>\n",
       "      <td>1023.80</td>\n",
       "    </tr>\n",
       "    <tr>\n",
       "      <th>4</th>\n",
       "      <td>190.48</td>\n",
       "      <td>nan</td>\n",
       "      <td>525.10</td>\n",
       "    </tr>\n",
       "    <tr>\n",
       "      <th>5</th>\n",
       "      <td>nan</td>\n",
       "      <td>nan</td>\n",
       "      <td>929.27</td>\n",
       "    </tr>\n",
       "    <tr>\n",
       "      <th>6</th>\n",
       "      <td>nan</td>\n",
       "      <td>nan</td>\n",
       "      <td>925.10</td>\n",
       "    </tr>\n",
       "    <tr>\n",
       "      <th>7</th>\n",
       "      <td>nan</td>\n",
       "      <td>nan</td>\n",
       "      <td>929.27</td>\n",
       "    </tr>\n",
       "    <tr>\n",
       "      <th>8</th>\n",
       "      <td>nan</td>\n",
       "      <td>nan</td>\n",
       "      <td>929.27</td>\n",
       "    </tr>\n",
       "    <tr>\n",
       "      <th>9</th>\n",
       "      <td>380.96</td>\n",
       "      <td>nan</td>\n",
       "      <td>925.10</td>\n",
       "    </tr>\n",
       "    <tr>\n",
       "      <th>10</th>\n",
       "      <td>nan</td>\n",
       "      <td>nan</td>\n",
       "      <td>929.27</td>\n",
       "    </tr>\n",
       "    <tr>\n",
       "      <th>11</th>\n",
       "      <td>nan</td>\n",
       "      <td>nan</td>\n",
       "      <td>925.10</td>\n",
       "    </tr>\n",
       "    <tr>\n",
       "      <th>12</th>\n",
       "      <td>nan</td>\n",
       "      <td>nan</td>\n",
       "      <td>1858.54</td>\n",
       "    </tr>\n",
       "    <tr>\n",
       "      <th>2017</th>\n",
       "      <th>1</th>\n",
       "      <td>95.24</td>\n",
       "      <td>nan</td>\n",
       "      <td>nan</td>\n",
       "    </tr>\n",
       "  </tbody>\n",
       "</table>\n",
       "</div>"
      ],
      "text/plain": [
       "                                valor_fcpc  Outros Serviços de Terceiros - Pessoa Física  Auxílio Financeiro a Estudantes\n",
       "nome                  ano  mes                                                                                           \n",
       "EDUARDO DA SILVA MAIA 2013 7           nan                                        800.00                              nan\n",
       "                           8           nan                                        400.00                              nan\n",
       "                           9           nan                                        400.00                              nan\n",
       "                           10          nan                                        400.00                              nan\n",
       "                           11          nan                                        400.00                              nan\n",
       "                           12          nan                                        800.00                              nan\n",
       "                      2014 4           nan                                        400.00                              nan\n",
       "                           5           nan                                        400.00                              nan\n",
       "                           6           nan                                        400.00                              nan\n",
       "                           7         95.24                                        800.00                              nan\n",
       "                           9           nan                                        400.00                              nan\n",
       "                           10          nan                                        800.00                              nan\n",
       "                           12          nan                                        800.00                              nan\n",
       "                      2015 4           nan                                        400.00                              nan\n",
       "                           5           nan                                        400.00                           511.90\n",
       "                           6           nan                                        400.00                           515.63\n",
       "                           7           nan                                        400.00                           515.63\n",
       "                           8           nan                                        400.00                           515.63\n",
       "                           9           nan                                        400.00                           511.90\n",
       "                           10          nan                                        400.00                           515.63\n",
       "                           11          nan                                        400.00                           511.90\n",
       "                           12       190.48                                        800.00                          1031.26\n",
       "                      2016 2           nan                                           nan                          1023.80\n",
       "                           4        190.48                                           nan                           525.10\n",
       "                           5           nan                                           nan                           929.27\n",
       "                           6           nan                                           nan                           925.10\n",
       "                           7           nan                                           nan                           929.27\n",
       "                           8           nan                                           nan                           929.27\n",
       "                           9        380.96                                           nan                           925.10\n",
       "                           10          nan                                           nan                           929.27\n",
       "                           11          nan                                           nan                           925.10\n",
       "                           12          nan                                           nan                          1858.54\n",
       "                      2017 1         95.24                                           nan                              nan"
      ]
     },
     "execution_count": 160,
     "metadata": {},
     "output_type": "execute_result"
    }
   ],
   "source": [
    "recebeu_mais_1[recebeu_mais_1.index.get_level_values(\"nome\").isin([\"EDUARDO DA SILVA MAIA\"])]\\\n",
    "[['valor_fcpc', 'Outros Serviços de Terceiros - Pessoa Física', 'Auxílio Financeiro a Estudantes']]"
   ]
  },
  {
   "cell_type": "code",
   "execution_count": null,
   "metadata": {
    "collapsed": true
   },
   "outputs": [],
   "source": []
  }
 ],
 "metadata": {
  "anaconda-cloud": {},
  "kernelspec": {
   "display_name": "Python [conda root]",
   "language": "python",
   "name": "conda-root-py"
  },
  "language_info": {
   "codemirror_mode": {
    "name": "ipython",
    "version": 3
   },
   "file_extension": ".py",
   "mimetype": "text/x-python",
   "name": "python",
   "nbconvert_exporter": "python",
   "pygments_lexer": "ipython3",
   "version": "3.5.2"
  }
 },
 "nbformat": 4,
 "nbformat_minor": 1
}
